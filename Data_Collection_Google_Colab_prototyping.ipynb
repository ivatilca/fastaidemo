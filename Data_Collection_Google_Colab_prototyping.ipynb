{
  "cells": [
    {
      "cell_type": "markdown",
      "metadata": {
        "colab_type": "text",
        "id": "view-in-github"
      },
      "source": [
        "<a href=\"https://colab.research.google.com/github/SriramyaK/Baby_Vibes_Pytorch_Azure_Webservice/blob/master/Data_Collection_Google_Colab_prototyping.ipynb\" target=\"_parent\"><img src=\"https://colab.research.google.com/assets/colab-badge.svg\" alt=\"Open In Colab\"/></a>"
      ]
    },
    {
      "cell_type": "code",
      "execution_count": 1,
      "metadata": {
        "colab": {
          "base_uri": "https://localhost:8080/",
          "height": 51
        },
        "colab_type": "code",
        "id": "lxOyDiI7negS",
        "outputId": "6bc70068-f88a-42f9-943f-57bb09449846"
      },
      "outputs": [
        {
          "name": "stdout",
          "output_type": "stream",
          "text": [
            "mkdir: /root: Read-only file system\n",
            "mkdir: /root: Read-only file system\n",
            "ln: /content: Read-only file system\n",
            "ln: /content: Read-only file system\n",
            "Updating fastai...\n",
            "bash: line 11: pip: command not found\n",
            "Done.\n"
          ]
        }
      ],
      "source": [
        "!curl -s https://course19.fast.ai/setup/colab | bash"
      ]
    },
    {
      "cell_type": "code",
      "execution_count": 2,
      "metadata": {
        "colab": {
          "base_uri": "https://localhost:8080/",
          "height": 122
        },
        "colab_type": "code",
        "id": "-qLr6_LZnkvN",
        "outputId": "bab6f13b-0f8a-4fb1-db6e-081843c7b5b0"
      },
      "outputs": [
        {
          "ename": "ModuleNotFoundError",
          "evalue": "No module named 'google.colab'",
          "output_type": "error",
          "traceback": [
            "\u001b[0;31m---------------------------------------------------------------------------\u001b[0m",
            "\u001b[0;31mModuleNotFoundError\u001b[0m                       Traceback (most recent call last)",
            "Cell \u001b[0;32mIn[2], line 1\u001b[0m\n\u001b[0;32m----> 1\u001b[0m \u001b[39mfrom\u001b[39;00m \u001b[39mgoogle\u001b[39;00m\u001b[39m.\u001b[39;00m\u001b[39mcolab\u001b[39;00m \u001b[39mimport\u001b[39;00m drive\n\u001b[1;32m      2\u001b[0m drive\u001b[39m.\u001b[39mmount(\u001b[39m'\u001b[39m\u001b[39m/content/gdrive\u001b[39m\u001b[39m'\u001b[39m, force_remount\u001b[39m=\u001b[39m\u001b[39mTrue\u001b[39;00m)\n\u001b[1;32m      3\u001b[0m root_dir \u001b[39m=\u001b[39m \u001b[39m\"\u001b[39m\u001b[39m/content/gdrive/My Drive/\u001b[39m\u001b[39m\"\u001b[39m\n",
            "\u001b[0;31mModuleNotFoundError\u001b[0m: No module named 'google.colab'"
          ]
        }
      ],
      "source": [
        "from google.colab import drive\n",
        "drive.mount('/content/gdrive', force_remount=True)\n",
        "root_dir = \"/content/gdrive/My Drive/\"\n",
        "base_dir = root_dir + 'fastai-v3/'"
      ]
    },
    {
      "cell_type": "code",
      "execution_count": null,
      "metadata": {
        "colab": {},
        "colab_type": "code",
        "id": "cVLYre57nm4N"
      },
      "outputs": [],
      "source": [
        "%reload_ext autoreload\n",
        "%autoreload 2\n",
        "%matplotlib inline"
      ]
    },
    {
      "cell_type": "code",
      "execution_count": null,
      "metadata": {
        "colab": {},
        "colab_type": "code",
        "id": "m3jCIWK7nqSA"
      },
      "outputs": [],
      "source": [
        "from fastai import *\n",
        "from fastai.vision import *\n",
        "from fastai.vision.data import *\n",
        "from fastai.widgets import ImageDownloader,download_google_images"
      ]
    },
    {
      "cell_type": "code",
      "execution_count": null,
      "metadata": {
        "colab": {},
        "colab_type": "code",
        "id": "kfqRAm98nq91"
      },
      "outputs": [],
      "source": [
        "folder = 'Crying Babies'\n",
        "file = 'Crying Babies.csv'"
      ]
    },
    {
      "cell_type": "code",
      "execution_count": null,
      "metadata": {
        "colab": {},
        "colab_type": "code",
        "id": "KZhuqIFAnx6-"
      },
      "outputs": [],
      "source": [
        "folder = 'Happy Babies'\n",
        "file = 'Happy Babies.csv'"
      ]
    },
    {
      "cell_type": "code",
      "execution_count": null,
      "metadata": {
        "colab": {},
        "colab_type": "code",
        "id": "qBT69GP8oBW9"
      },
      "outputs": [],
      "source": [
        "path = Path(base_dir + 'data/Babies')\n",
        "# dest = path/folder\n",
        "# dest.mkdir(parents=True, exist_ok=True)"
      ]
    },
    {
      "cell_type": "code",
      "execution_count": null,
      "metadata": {
        "colab": {
          "base_uri": "https://localhost:8080/",
          "height": 153
        },
        "colab_type": "code",
        "id": "QjuXm4KNoLV9",
        "outputId": "a0306348-59d1-4dd7-9611-cc5c3007e0d2"
      },
      "outputs": [],
      "source": [
        "path.ls()"
      ]
    },
    {
      "cell_type": "code",
      "execution_count": null,
      "metadata": {
        "colab": {},
        "colab_type": "code",
        "id": "hzfsgwVtJfli"
      },
      "outputs": [],
      "source": [
        "classes = ['Happy Babies', 'Crying Babies']"
      ]
    },
    {
      "cell_type": "code",
      "execution_count": null,
      "metadata": {
        "colab": {
          "base_uri": "https://localhost:8080/",
          "height": 34
        },
        "colab_type": "code",
        "id": "d6TtrGkyA_aE",
        "outputId": "09c4fc27-f3b7-4beb-9c82-25bf4c69d96f"
      },
      "outputs": [],
      "source": [
        "path"
      ]
    },
    {
      "cell_type": "code",
      "execution_count": null,
      "metadata": {
        "colab": {},
        "colab_type": "code",
        "id": "KT6uVPdB0wUu"
      },
      "outputs": [],
      "source": [
        "#download_images(path/file, dest, max_pics=200)"
      ]
    },
    {
      "cell_type": "code",
      "execution_count": null,
      "metadata": {
        "colab": {
          "base_uri": "https://localhost:8080/",
          "height": 153
        },
        "colab_type": "code",
        "id": "2Ora22MTRlcG",
        "outputId": "43149e55-0992-45b4-bf94-beed0060d2fd"
      },
      "outputs": [],
      "source": [
        "path.ls()"
      ]
    },
    {
      "cell_type": "code",
      "execution_count": null,
      "metadata": {
        "colab": {},
        "colab_type": "code",
        "id": "3h1Lrw5T7uDb"
      },
      "outputs": [],
      "source": [
        "data = ImageDataBunch.from_folder(path,valid_pct=0.05, ds_tfms=get_transforms(), size=224).normalize(imagenet_stats)"
      ]
    },
    {
      "cell_type": "code",
      "execution_count": null,
      "metadata": {
        "colab": {
          "base_uri": "https://localhost:8080/",
          "height": 34
        },
        "colab_type": "code",
        "id": "6nPzC5XRR02X",
        "outputId": "1a6987df-4619-42f5-c280-21c2bd213897"
      },
      "outputs": [],
      "source": [
        "data.classes"
      ]
    },
    {
      "cell_type": "code",
      "execution_count": null,
      "metadata": {
        "colab": {
          "base_uri": "https://localhost:8080/",
          "height": 573
        },
        "colab_type": "code",
        "id": "CB5Gd97iR2tK",
        "outputId": "792f37dc-2530-4c5d-df79-3ce58e9025ef"
      },
      "outputs": [],
      "source": [
        "data.show_batch(rows=3, figsize=(7,8))"
      ]
    },
    {
      "cell_type": "code",
      "execution_count": null,
      "metadata": {
        "colab": {
          "base_uri": "https://localhost:8080/",
          "height": 83,
          "referenced_widgets": [
            "65d87bd1e4a44068a01cf527bc2ab823",
            "69a19c5785a74683be722d883b041d6a",
            "c7d12cde25814cbb89092f46425878c1",
            "aab989a5be0542b198cce05ec6b628c3",
            "f719b299a5d24233b5e7c053fd71346a",
            "bc0b3606ccc44113946ceae85a7dde1c",
            "bafbf7d1a0ba4e8ea0604816b33dc189",
            "263a1042bede4ccd87fd179d15db676a"
          ]
        },
        "colab_type": "code",
        "id": "WSSrfFBgR71r",
        "outputId": "84a0b54a-728b-4dc1-c22b-0720f1663371"
      },
      "outputs": [],
      "source": [
        "learn = cnn_learner(data, models.resnet50, metrics=accuracy)"
      ]
    },
    {
      "cell_type": "code",
      "execution_count": null,
      "metadata": {
        "colab": {
          "base_uri": "https://localhost:8080/",
          "height": 143
        },
        "colab_type": "code",
        "id": "A0I9MqFdSHIU",
        "outputId": "7195d3db-ddfd-4cf7-a29b-b143bffc27a4"
      },
      "outputs": [],
      "source": [
        "learn.fit_one_cycle(1)\n",
        "learn.unfreeze()\n",
        "learn.fit_one_cycle(1, slice(1e-5,3e-4), pct_start=0.05)"
      ]
    },
    {
      "cell_type": "code",
      "execution_count": null,
      "metadata": {
        "colab": {},
        "colab_type": "code",
        "id": "NBFkS8EBSK1Y"
      },
      "outputs": [],
      "source": [
        "saved_model_path = learn.save('Babies', return_path = True)\n",
        "learn.export()"
      ]
    },
    {
      "cell_type": "code",
      "execution_count": null,
      "metadata": {
        "colab": {},
        "colab_type": "code",
        "id": "If1YgkwhSQeb"
      },
      "outputs": [],
      "source": [
        "saved_model_pkl = str(learn.path) + '/export.pkl'"
      ]
    },
    {
      "cell_type": "code",
      "execution_count": null,
      "metadata": {
        "colab": {
          "base_uri": "https://localhost:8080/",
          "height": 17
        },
        "colab_type": "code",
        "id": "-Cu0JqNySVJ6",
        "outputId": "2a00643a-bcaa-48b8-f67d-fc3487743221"
      },
      "outputs": [],
      "source": [
        "interp = ClassificationInterpretation.from_learner(learn)"
      ]
    },
    {
      "cell_type": "code",
      "execution_count": null,
      "metadata": {
        "colab": {
          "base_uri": "https://localhost:8080/",
          "height": 34
        },
        "colab_type": "code",
        "id": "mIaIS8gSSW2Z",
        "outputId": "4b0db0ec-c417-4015-d7a7-0eaa25a27f4f"
      },
      "outputs": [],
      "source": [
        "interp.most_confused(min_val=2)"
      ]
    },
    {
      "cell_type": "code",
      "execution_count": null,
      "metadata": {
        "colab": {
          "base_uri": "https://localhost:8080/",
          "height": 708
        },
        "colab_type": "code",
        "id": "RNsKgcnZSZBK",
        "outputId": "a0c41a8f-f292-49c5-a81d-3645401375a2"
      },
      "outputs": [],
      "source": [
        "interp.plot_top_losses(9, figsize=(15,11))"
      ]
    },
    {
      "cell_type": "code",
      "execution_count": null,
      "metadata": {
        "colab": {
          "base_uri": "https://localhost:8080/",
          "height": 17
        },
        "colab_type": "code",
        "id": "4OF3Au2jSexX",
        "outputId": "b1d2c5ad-c706-47d0-e70c-3ebd88b9af46"
      },
      "outputs": [],
      "source": [
        "interp = ClassificationInterpretation.from_learner(learn)"
      ]
    },
    {
      "cell_type": "code",
      "execution_count": null,
      "metadata": {
        "colab": {
          "base_uri": "https://localhost:8080/",
          "height": 311
        },
        "colab_type": "code",
        "id": "AdXVkEwXSgXi",
        "outputId": "045842f2-48f6-4246-fb03-2607229c022e"
      },
      "outputs": [],
      "source": [
        "interp.plot_confusion_matrix()\n"
      ]
    },
    {
      "cell_type": "code",
      "execution_count": null,
      "metadata": {
        "colab": {
          "base_uri": "https://localhost:8080/",
          "height": 204
        },
        "colab_type": "code",
        "id": "nbmnBzrISlh0",
        "outputId": "4d0ea24a-cb1f-4c54-eca3-2864261a3968"
      },
      "outputs": [],
      "source": [
        "!wget -O baby.jpg 'https://www.todaysparent.com/wp-content/uploads/2013/03/crying-baby-istock660.jpg'"
      ]
    },
    {
      "cell_type": "code",
      "execution_count": null,
      "metadata": {
        "colab": {},
        "colab_type": "code",
        "id": "e5pD6tfGSi8-"
      },
      "outputs": [],
      "source": [
        "learn_inference = load_learner(path)"
      ]
    },
    {
      "cell_type": "code",
      "execution_count": null,
      "metadata": {
        "colab": {},
        "colab_type": "code",
        "id": "3T3XosZcTfNI"
      },
      "outputs": [],
      "source": [
        "img = open_image(os.path.join(os.getcwd(),\"baby.jpg\"))\n",
        "results = learn_inference.predict(img)"
      ]
    },
    {
      "cell_type": "code",
      "execution_count": null,
      "metadata": {
        "colab": {
          "base_uri": "https://localhost:8080/",
          "height": 34
        },
        "colab_type": "code",
        "id": "Q51ZHzW8vK9o",
        "outputId": "5fd83b76-d536-4366-8496-7ac77989bc6a"
      },
      "outputs": [],
      "source": [
        "results[0]"
      ]
    },
    {
      "cell_type": "code",
      "execution_count": null,
      "metadata": {
        "colab": {},
        "colab_type": "code",
        "id": "V48KNjuEdsb0"
      },
      "outputs": [],
      "source": [
        "!pip freeze > requirements.txt"
      ]
    }
  ],
  "metadata": {
    "accelerator": "GPU",
    "colab": {
      "authorship_tag": "ABX9TyPfwlVjsDMbu63hKTePL595",
      "collapsed_sections": [],
      "include_colab_link": true,
      "name": "Baby_Vibes_Data_Collection_prototyping.ipynb",
      "provenance": []
    },
    "kernelspec": {
      "display_name": "Python 3",
      "name": "python3"
    },
    "language_info": {
      "codemirror_mode": {
        "name": "ipython",
        "version": 3
      },
      "file_extension": ".py",
      "mimetype": "text/x-python",
      "name": "python",
      "nbconvert_exporter": "python",
      "pygments_lexer": "ipython3",
      "version": "3.11.4"
    },
    "widgets": {
      "application/vnd.jupyter.widget-state+json": {
        "263a1042bede4ccd87fd179d15db676a": {
          "model_module": "@jupyter-widgets/base",
          "model_name": "LayoutModel",
          "state": {
            "_model_module": "@jupyter-widgets/base",
            "_model_module_version": "1.2.0",
            "_model_name": "LayoutModel",
            "_view_count": null,
            "_view_module": "@jupyter-widgets/base",
            "_view_module_version": "1.2.0",
            "_view_name": "LayoutView",
            "align_content": null,
            "align_items": null,
            "align_self": null,
            "border": null,
            "bottom": null,
            "display": null,
            "flex": null,
            "flex_flow": null,
            "grid_area": null,
            "grid_auto_columns": null,
            "grid_auto_flow": null,
            "grid_auto_rows": null,
            "grid_column": null,
            "grid_gap": null,
            "grid_row": null,
            "grid_template_areas": null,
            "grid_template_columns": null,
            "grid_template_rows": null,
            "height": null,
            "justify_content": null,
            "justify_items": null,
            "left": null,
            "margin": null,
            "max_height": null,
            "max_width": null,
            "min_height": null,
            "min_width": null,
            "object_fit": null,
            "object_position": null,
            "order": null,
            "overflow": null,
            "overflow_x": null,
            "overflow_y": null,
            "padding": null,
            "right": null,
            "top": null,
            "visibility": null,
            "width": null
          }
        },
        "65d87bd1e4a44068a01cf527bc2ab823": {
          "model_module": "@jupyter-widgets/controls",
          "model_name": "HBoxModel",
          "state": {
            "_dom_classes": [],
            "_model_module": "@jupyter-widgets/controls",
            "_model_module_version": "1.5.0",
            "_model_name": "HBoxModel",
            "_view_count": null,
            "_view_module": "@jupyter-widgets/controls",
            "_view_module_version": "1.5.0",
            "_view_name": "HBoxView",
            "box_style": "",
            "children": [
              "IPY_MODEL_c7d12cde25814cbb89092f46425878c1",
              "IPY_MODEL_aab989a5be0542b198cce05ec6b628c3"
            ],
            "layout": "IPY_MODEL_69a19c5785a74683be722d883b041d6a"
          }
        },
        "69a19c5785a74683be722d883b041d6a": {
          "model_module": "@jupyter-widgets/base",
          "model_name": "LayoutModel",
          "state": {
            "_model_module": "@jupyter-widgets/base",
            "_model_module_version": "1.2.0",
            "_model_name": "LayoutModel",
            "_view_count": null,
            "_view_module": "@jupyter-widgets/base",
            "_view_module_version": "1.2.0",
            "_view_name": "LayoutView",
            "align_content": null,
            "align_items": null,
            "align_self": null,
            "border": null,
            "bottom": null,
            "display": null,
            "flex": null,
            "flex_flow": null,
            "grid_area": null,
            "grid_auto_columns": null,
            "grid_auto_flow": null,
            "grid_auto_rows": null,
            "grid_column": null,
            "grid_gap": null,
            "grid_row": null,
            "grid_template_areas": null,
            "grid_template_columns": null,
            "grid_template_rows": null,
            "height": null,
            "justify_content": null,
            "justify_items": null,
            "left": null,
            "margin": null,
            "max_height": null,
            "max_width": null,
            "min_height": null,
            "min_width": null,
            "object_fit": null,
            "object_position": null,
            "order": null,
            "overflow": null,
            "overflow_x": null,
            "overflow_y": null,
            "padding": null,
            "right": null,
            "top": null,
            "visibility": null,
            "width": null
          }
        },
        "aab989a5be0542b198cce05ec6b628c3": {
          "model_module": "@jupyter-widgets/controls",
          "model_name": "HTMLModel",
          "state": {
            "_dom_classes": [],
            "_model_module": "@jupyter-widgets/controls",
            "_model_module_version": "1.5.0",
            "_model_name": "HTMLModel",
            "_view_count": null,
            "_view_module": "@jupyter-widgets/controls",
            "_view_module_version": "1.5.0",
            "_view_name": "HTMLView",
            "description": "",
            "description_tooltip": null,
            "layout": "IPY_MODEL_263a1042bede4ccd87fd179d15db676a",
            "placeholder": "​",
            "style": "IPY_MODEL_bafbf7d1a0ba4e8ea0604816b33dc189",
            "value": "100% 97.8M/97.8M [00:02&lt;00:00, 37.6MB/s]"
          }
        },
        "bafbf7d1a0ba4e8ea0604816b33dc189": {
          "model_module": "@jupyter-widgets/controls",
          "model_name": "DescriptionStyleModel",
          "state": {
            "_model_module": "@jupyter-widgets/controls",
            "_model_module_version": "1.5.0",
            "_model_name": "DescriptionStyleModel",
            "_view_count": null,
            "_view_module": "@jupyter-widgets/base",
            "_view_module_version": "1.2.0",
            "_view_name": "StyleView",
            "description_width": ""
          }
        },
        "bc0b3606ccc44113946ceae85a7dde1c": {
          "model_module": "@jupyter-widgets/base",
          "model_name": "LayoutModel",
          "state": {
            "_model_module": "@jupyter-widgets/base",
            "_model_module_version": "1.2.0",
            "_model_name": "LayoutModel",
            "_view_count": null,
            "_view_module": "@jupyter-widgets/base",
            "_view_module_version": "1.2.0",
            "_view_name": "LayoutView",
            "align_content": null,
            "align_items": null,
            "align_self": null,
            "border": null,
            "bottom": null,
            "display": null,
            "flex": null,
            "flex_flow": null,
            "grid_area": null,
            "grid_auto_columns": null,
            "grid_auto_flow": null,
            "grid_auto_rows": null,
            "grid_column": null,
            "grid_gap": null,
            "grid_row": null,
            "grid_template_areas": null,
            "grid_template_columns": null,
            "grid_template_rows": null,
            "height": null,
            "justify_content": null,
            "justify_items": null,
            "left": null,
            "margin": null,
            "max_height": null,
            "max_width": null,
            "min_height": null,
            "min_width": null,
            "object_fit": null,
            "object_position": null,
            "order": null,
            "overflow": null,
            "overflow_x": null,
            "overflow_y": null,
            "padding": null,
            "right": null,
            "top": null,
            "visibility": null,
            "width": null
          }
        },
        "c7d12cde25814cbb89092f46425878c1": {
          "model_module": "@jupyter-widgets/controls",
          "model_name": "IntProgressModel",
          "state": {
            "_dom_classes": [],
            "_model_module": "@jupyter-widgets/controls",
            "_model_module_version": "1.5.0",
            "_model_name": "IntProgressModel",
            "_view_count": null,
            "_view_module": "@jupyter-widgets/controls",
            "_view_module_version": "1.5.0",
            "_view_name": "ProgressView",
            "bar_style": "success",
            "description": "",
            "description_tooltip": null,
            "layout": "IPY_MODEL_bc0b3606ccc44113946ceae85a7dde1c",
            "max": 102502400,
            "min": 0,
            "orientation": "horizontal",
            "style": "IPY_MODEL_f719b299a5d24233b5e7c053fd71346a",
            "value": 102502400
          }
        },
        "f719b299a5d24233b5e7c053fd71346a": {
          "model_module": "@jupyter-widgets/controls",
          "model_name": "ProgressStyleModel",
          "state": {
            "_model_module": "@jupyter-widgets/controls",
            "_model_module_version": "1.5.0",
            "_model_name": "ProgressStyleModel",
            "_view_count": null,
            "_view_module": "@jupyter-widgets/base",
            "_view_module_version": "1.2.0",
            "_view_name": "StyleView",
            "bar_color": null,
            "description_width": ""
          }
        }
      }
    }
  },
  "nbformat": 4,
  "nbformat_minor": 0
}
